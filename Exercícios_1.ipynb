{
 "cells": [
  {
   "cell_type": "markdown",
   "id": "8df1312d",
   "metadata": {},
   "source": [
    "# Faça um programa, usando loops, que peça para um usuário digitar um número e que só finaliza quando o usuário digitar 0. Ao final imprima a soma de todos os números digitados."
   ]
  },
  {
   "cell_type": "code",
   "execution_count": 1,
   "id": "3f9a3f96",
   "metadata": {},
   "outputs": [
    {
     "name": "stdout",
     "output_type": "stream",
     "text": [
      "Digite um número: 10\n",
      "Erro! Digite outro número: -5\n",
      "Erro! Digite outro número: 0\n",
      "Obrigado por digitar o número: 0.0\n",
      "Soma dos números digitados:  5.0\n"
     ]
    }
   ],
   "source": [
    "numero = float(input('Digite um número: '))\n",
    "\n",
    "contador = numero\n",
    "\n",
    "while numero != 0:\n",
    "    numero = float(input('Erro! Digite outro número: '))\n",
    "    contador += numero\n",
    "    \n",
    "\n",
    "print('Obrigado por digitar o número:' , numero)\n",
    "print('Soma dos números digitados: ', contador)\n"
   ]
  },
  {
   "cell_type": "markdown",
   "id": "878c0e8d",
   "metadata": {},
   "source": [
    "# Faça um script que peça para o usuário digitar a idade, o salário e o sexo de uma pessoa até que as entradas digitadas sejam válidas.\n",
    "\n",
    "# Idade: entre 0 e 150\n",
    "# Salário: maior que 0\n",
    "# Gênero: M, F ou Outro.\n",
    "# Por último imprima os dados recebidos do usuário."
   ]
  },
  {
   "cell_type": "code",
   "execution_count": null,
   "id": "32008bb6",
   "metadata": {},
   "outputs": [],
   "source": [
    "idade = int(input('Digite a idade da pessoa: '))\n",
    "\n",
    "while (idade < 0) or (idade > 150):\n",
    "    print('Idade inválida!')\n",
    "    idade = int(input('Digite uma idade válida: '))\n",
    "\n",
    "salario = float(input('Digite o salário da pessoa: '))\n",
    "\n",
    "while (salario < 0):\n",
    "    print('Salário inválido!')\n",
    "    salario = float(input('Digite um salário válido: '))\n",
    "    \n",
    "genero = input('Digite o genêro da pessoa: ')\n",
    "    \n",
    "while (genero != 'M') and (genero != 'F') and (genero != 'Outro'):\n",
    "    print('Gênero inválido!')\n",
    "    genero = input('Digite um gênero válido: ')\n",
    "    \n",
    "    \n",
    "print('A idade informada foi: ', idade)\n",
    "print('O salário informado foi: ', salario)\n",
    "print('O gênero informado foi: ', genero)\n",
    "    \n",
    "    "
   ]
  },
  {
   "cell_type": "markdown",
   "id": "a11c73c3",
   "metadata": {},
   "source": [
    "# Faça um script que peça ao usuário para digitar um número n e some todos os números de 1 a n.\n",
    "\n"
   ]
  },
  {
   "cell_type": "code",
   "execution_count": 3,
   "id": "78991e9c",
   "metadata": {},
   "outputs": [
    {
     "name": "stdout",
     "output_type": "stream",
     "text": [
      "Digite um número: 25\n",
      "A soma de todos os números até o número digitado é de:  325\n"
     ]
    }
   ],
   "source": [
    "numero_n = int(input('Digite um número: '))\n",
    "soma = 0\n",
    "\n",
    "while numero_n > 0:\n",
    "    soma += numero_n\n",
    "    numero_n = numero_n - 1\n",
    "    \n",
    "print('A soma de todos os números até o número digitado é de: ', soma)\n",
    "    \n",
    "    "
   ]
  },
  {
   "cell_type": "markdown",
   "id": "c32dc730",
   "metadata": {},
   "source": [
    "# Faça um programa que recebe um número inteiro do usuário e imprime na tela a quantidade de divisores desse número e quais são eles."
   ]
  },
  {
   "cell_type": "code",
   "execution_count": 5,
   "id": "9e97f25c",
   "metadata": {
    "scrolled": true
   },
   "outputs": [
    {
     "name": "stdout",
     "output_type": "stream",
     "text": [
      "Digite um número: 10\n",
      "O número  1 é um divisor de 10\n",
      "O número  2 é um divisor de 10\n",
      "O número  5 é um divisor de 10\n",
      "O número  10 é um divisor de 10\n",
      "10 possue 4 divisores!\n"
     ]
    }
   ],
   "source": [
    "numero = int(input('Digite um número: '))\n",
    "divisor = 0\n",
    "quantidade = 0\n",
    "\n",
    "while divisor <= numero:\n",
    "    divisor = divisor + 1\n",
    "    if numero % divisor == 0:\n",
    "        print('O número ', divisor,'é um divisor de', numero)\n",
    "        quantidade += 1\n",
    "    \n",
    "print(numero,'possue',quantidade,'divisores!')\n",
    "\n",
    "       \n",
    "\n"
   ]
  },
  {
   "cell_type": "markdown",
   "id": "462f848d",
   "metadata": {},
   "source": []
  },
  {
   "cell_type": "markdown",
   "id": "f79a0503",
   "metadata": {},
   "source": [
    "##### "
   ]
  }
 ],
 "metadata": {
  "kernelspec": {
   "display_name": "Python 3 (ipykernel)",
   "language": "python",
   "name": "python3"
  },
  "language_info": {
   "codemirror_mode": {
    "name": "ipython",
    "version": 3
   },
   "file_extension": ".py",
   "mimetype": "text/x-python",
   "name": "python",
   "nbconvert_exporter": "python",
   "pygments_lexer": "ipython3",
   "version": "3.9.7"
  }
 },
 "nbformat": 4,
 "nbformat_minor": 5
}
