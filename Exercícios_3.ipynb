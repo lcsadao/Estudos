{
 "cells": [
  {
   "cell_type": "markdown",
   "id": "b393fb75",
   "metadata": {},
   "source": [
    "Faça um programa que peça para o usuário digitar um número n e imprima uma lista com todos os números de 0 a n-1.\n",
    "\n",
    "Exemplo: se o usuário digitar 5, o programa deve imprimir [0, 1, 2, 3, 4]"
   ]
  },
  {
   "cell_type": "code",
   "execution_count": 10,
   "id": "19df61bc",
   "metadata": {},
   "outputs": [
    {
     "name": "stdout",
     "output_type": "stream",
     "text": [
      "Digite um número: 50\n",
      "[0, 1, 2, 3, 4, 5, 6, 7, 8, 9, 10, 11, 12, 13, 14, 15, 16, 17, 18, 19, 20, 21, 22, 23, 24, 25, 26, 27, 28, 29, 30, 31, 32, 33, 34, 35, 36, 37, 38, 39, 40, 41, 42, 43, 44, 45, 46, 47, 48, 49]\n"
     ]
    }
   ],
   "source": [
    "numero = int(input('Digite um número: '))\n",
    "lista = []\n",
    "\n",
    "for digitos in range(numero):\n",
    "    lista.append(digitos)\n",
    "print(lista)\n",
    "        \n",
    "\n",
    "\n",
    "\n",
    "    \n",
    "\n"
   ]
  },
  {
   "cell_type": "markdown",
   "id": "f3a63246",
   "metadata": {},
   "source": [
    "Faça um programa que imprima o maior número de uma lista, sem usar a função max()."
   ]
  },
  {
   "cell_type": "code",
   "execution_count": 6,
   "id": "521fdd21",
   "metadata": {},
   "outputs": [
    {
     "name": "stdout",
     "output_type": "stream",
     "text": [
      "100\n"
     ]
    }
   ],
   "source": [
    "lista = [1, 4 , 7 , 3 , 5 , 2 , 8 , 0 , 100]\n",
    "\n",
    "print(sorted(lista)[-1])\n",
    "\n"
   ]
  },
  {
   "cell_type": "markdown",
   "id": "ee0a6220",
   "metadata": {},
   "source": [
    "Agora usando a função max() faça um programa que imprima os três maiores números de uma lista."
   ]
  },
  {
   "cell_type": "code",
   "execution_count": 2,
   "id": "ae03ce02",
   "metadata": {},
   "outputs": [
    {
     "name": "stdout",
     "output_type": "stream",
     "text": [
      "[100, 50, 14]\n"
     ]
    }
   ],
   "source": [
    "lista = [1, 4, 5, 3, 2, 6, 9, 100, 50, 14]\n",
    "maiores = []\n",
    "for maior in range(3):\n",
    "    maiores.append(max(lista))\n",
    "    lista.remove(max(lista))\n",
    "print(maiores)\n",
    "    \n",
    "    \n",
    "    \n"
   ]
  },
  {
   "cell_type": "markdown",
   "id": "9768755f",
   "metadata": {},
   "source": [
    "Faça um programa que peça para o usuário digitar o nome e a idade de um aluno e o número de provas que esse aluno fez. Depois, o programa deve pedir para o usuário digitar as notas de cada prova do aluno. Ao final o programa deve imprimir uma lista contendo:\n",
    "\n",
    "a. Nome do aluno na posição 0;\n",
    "\n",
    "b. Idade do aluno na posição 1;\n",
    "\n",
    "c. Uma lista com todas as notas na posição 2;\n",
    "\n",
    "d. A média do aluno na posição 3;\n",
    "\n",
    "e. True ou False, caso a média seja maior que 5 ou não, na posição 4."
   ]
  },
  {
   "cell_type": "code",
   "execution_count": 11,
   "id": "95c3cdf1",
   "metadata": {},
   "outputs": [
    {
     "name": "stdout",
     "output_type": "stream",
     "text": [
      "Digite o nome do aluno: Lucas\n",
      "Digite a idade do aluno: 20\n",
      "Digite quantas provas o aluno realizou: 4\n",
      "Digite a nota 1:5.5\n",
      "Digite a nota 2:4.1\n",
      "Digite a nota 3:2.9\n",
      "Digite a nota 4:7.8\n",
      "['Lucas', 20, [5.5, 4.1, 2.9, 7.8], 5.075, True]\n"
     ]
    }
   ],
   "source": [
    "lista = []\n",
    "lista_notas = []\n",
    "nome = input('Digite o nome do aluno: ')\n",
    "\n",
    "idade = int(input('Digite a idade do aluno: '))\n",
    "\n",
    "\n",
    "while idade <= 0:\n",
    "        print('Idade inválida! Digite novamente!')\n",
    "        idade = int(input('Digite a idade do aluno: '))\n",
    "\n",
    "        \n",
    "quantidade_notas = int(input('Digite quantas provas o aluno realizou: '))\n",
    "\n",
    "while quantidade_notas <= 0:\n",
    "    print('Quantidade de notas inválida! Digite novamente!')\n",
    "    quantidade_notas = int(input('Digite quantas provas o aluno realizou: '))\n",
    "\n",
    "contagem_notas = 1\n",
    "\n",
    "\n",
    "\n",
    "for nota in range(quantidade_notas):\n",
    "    nota = float(input(\"Digite a nota \" + str(contagem_notas) + \":\"))\n",
    "    while nota < 0 or nota > 10:\n",
    "        print('Nota inválida! Por favor digite novamente!')\n",
    "        nota = float(input(\"Digite a nota \" + str(contagem_notas) + \":\"))\n",
    "    lista_notas.append(nota)\n",
    "    contagem_notas += 1\n",
    "\n",
    "    \n",
    "media = sum(lista_notas) / len(lista_notas)\n",
    "\n",
    "lista.append(nome)\n",
    "lista.append(idade)\n",
    "lista.append(lista_notas)\n",
    "lista.append(media)\n",
    "    \n",
    "if media > 5:\n",
    "    lista.append(True)\n",
    "else:\n",
    "     lista.append(False)\n",
    "        \n",
    "print(lista)\n",
    "\n",
    "    \n",
    "\n",
    "\n",
    "\n",
    "\n",
    "\n",
    "\n",
    "    "
   ]
  },
  {
   "cell_type": "code",
   "execution_count": null,
   "id": "3c5b152e",
   "metadata": {},
   "outputs": [],
   "source": []
  },
  {
   "cell_type": "code",
   "execution_count": null,
   "id": "6323db36",
   "metadata": {},
   "outputs": [],
   "source": []
  },
  {
   "cell_type": "code",
   "execution_count": null,
   "id": "377bd979",
   "metadata": {},
   "outputs": [],
   "source": []
  }
 ],
 "metadata": {
  "kernelspec": {
   "display_name": "Python 3 (ipykernel)",
   "language": "python",
   "name": "python3"
  },
  "language_info": {
   "codemirror_mode": {
    "name": "ipython",
    "version": 3
   },
   "file_extension": ".py",
   "mimetype": "text/x-python",
   "name": "python",
   "nbconvert_exporter": "python",
   "pygments_lexer": "ipython3",
   "version": "3.9.7"
  }
 },
 "nbformat": 4,
 "nbformat_minor": 5
}
