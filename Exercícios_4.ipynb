{
 "cells": [
  {
   "cell_type": "markdown",
   "id": "281751fa",
   "metadata": {},
   "source": [
    "Faça um programa que peça para o usuário digitar uma palavra e imprima cada letra em uma linha."
   ]
  },
  {
   "cell_type": "code",
   "execution_count": 3,
   "id": "ea9fd0ae",
   "metadata": {},
   "outputs": [
    {
     "name": "stdout",
     "output_type": "stream",
     "text": [
      "Digite uma palavra: lucas\n",
      "l\n",
      "u\n",
      "c\n",
      "a\n",
      "s\n"
     ]
    }
   ],
   "source": [
    "palavra = input('Digite uma palavra: ')\n",
    "\n",
    "for i in palavra:\n",
    "    print(i)"
   ]
  },
  {
   "cell_type": "markdown",
   "id": "390de9cc",
   "metadata": {},
   "source": [
    "Faça um programa que pede para o usuário digitar uma palavra e cria uma nova string igual, copiando letra por letra a palavra digitada, depois imprima a nova string."
   ]
  },
  {
   "cell_type": "code",
   "execution_count": 14,
   "id": "84befa70",
   "metadata": {},
   "outputs": [
    {
     "name": "stdout",
     "output_type": "stream",
     "text": [
      "Digite uma palavra: lucas\n",
      "lucas\n"
     ]
    }
   ],
   "source": [
    "palavra = input('Digite uma palavra: ')\n",
    "string = []\n",
    "\n",
    "for c in palavra:\n",
    "    string.append(c)\n",
    "    \n",
    "string = ''.join(string)\n",
    "    \n",
    "print(string)\n"
   ]
  },
  {
   "cell_type": "markdown",
   "id": "cc442059",
   "metadata": {},
   "source": [
    "Altere o exercício anterior para que a string copiada alterne entre letras maiúsculas e minúsculas.\n",
    "\n",
    "Exemplo: se o usuário digitar \"latex\" o programa deve imprimir \"LaTeX\"."
   ]
  },
  {
   "cell_type": "code",
   "execution_count": 15,
   "id": "545e8a7a",
   "metadata": {},
   "outputs": [
    {
     "name": "stdout",
     "output_type": "stream",
     "text": [
      "Digite uma palavra: lucas\n",
      "LuCaS\n"
     ]
    }
   ],
   "source": [
    "\n",
    "palavra = input('Digite uma palavra: ') \n",
    "palavraNova = list(palavra)\n",
    "\n",
    "\n",
    "for caps in range(0,len(palavraNova),2):\n",
    "    #print(palavra[caps].upper())\n",
    "    palavraNova[caps] = palavraNova[caps].upper()\n",
    "    \n",
    "palavraNova = ''.join(palavraNova)\n",
    "    \n",
    "print(palavraNova)\n",
    "    \n",
    "\n",
    "\n",
    "\n",
    "    \n",
    "\n",
    "    \n",
    "\n",
    "    \n",
    "\n",
    "\n",
    "\n",
    "    \n",
    "\n",
    "    \n"
   ]
  },
  {
   "cell_type": "markdown",
   "id": "a3005862",
   "metadata": {},
   "source": [
    "Faça um programa que pede para o usuário digitar uma palavra e cria uma nova string igual, porém com espaço entre cada letra, depois imprima a nova string:\n",
    "\n",
    "Exemplo: se o usuário digitar \"python\" o programa deve imprimir \"p y t h o n \""
   ]
  },
  {
   "cell_type": "code",
   "execution_count": null,
   "id": "708ca90c",
   "metadata": {},
   "outputs": [],
   "source": [
    "palavra = 'abcde'\n",
    "palavra = list(palavra)\n",
    "\n"
   ]
  },
  {
   "cell_type": "markdown",
   "id": "33b82da4",
   "metadata": {},
   "source": [
    "Faça um programa que leia uma string e imprima uma nova string substituindo:\n",
    "\n",
    "'a' por '4'\n",
    "\n",
    "'e' por '3'\n",
    "\n",
    "'I' por '1'\n",
    "\n",
    "'t' por '7'"
   ]
  },
  {
   "cell_type": "code",
   "execution_count": null,
   "id": "e6d629d4",
   "metadata": {},
   "outputs": [],
   "source": []
  },
  {
   "cell_type": "markdown",
   "id": "d096fbd7",
   "metadata": {},
   "source": [
    "Faça um programa que lê uma string e imprime ela ao contrário.\n",
    "\n",
    "Exemplo: Lê \"teste\" e imprime \"etset\"."
   ]
  },
  {
   "cell_type": "code",
   "execution_count": 84,
   "id": "d6d2d384",
   "metadata": {},
   "outputs": [
    {
     "name": "stdout",
     "output_type": "stream",
     "text": [
      "Digite uma palavra: lucas\n",
      "sacul\n"
     ]
    }
   ],
   "source": [
    "palavra = input('Digite uma palavra: ')\n",
    "print(palavra[::-1])\n",
    "\n",
    "\n",
    "\n",
    "    \n",
    "    \n",
    "    "
   ]
  },
  {
   "cell_type": "markdown",
   "id": "9fcdc787",
   "metadata": {},
   "source": [
    "Agora faça um programa que lê uma palavra e diz se ela é um palíndromo, ou seja, se ela é igual a ela mesma ao contrário.\n",
    "\n",
    "Dica: Aproveite a solução do exercício 6."
   ]
  },
  {
   "cell_type": "code",
   "execution_count": 87,
   "id": "652be273",
   "metadata": {},
   "outputs": [
    {
     "name": "stdout",
     "output_type": "stream",
     "text": [
      "Digite uma palavra: ana\n",
      "ana é um palíndromo.\n"
     ]
    }
   ],
   "source": [
    "palavra = input('Digite uma palavra: ')\n",
    "palavra1 = palavra[::-1]\n",
    "\n",
    "if palavra == palavra1:\n",
    "    print(palavra,'é um palíndromo.')\n",
    "else:\n",
    "    print(palavra,'não é um palíndromo.')"
   ]
  },
  {
   "cell_type": "markdown",
   "id": "4e2ec409",
   "metadata": {},
   "source": [
    "Desafio - Faça um programa que lê uma string e uma letra e:\n",
    "\n",
    "a. imprima quantas vezes a letra aparece na string;\n",
    "\n",
    "b. imprima todas as posições em que a letra aparece na string;\n",
    "\n",
    "c. imprima a distância entre a primeira e a última aparição dessa letra na string."
   ]
  },
  {
   "cell_type": "code",
   "execution_count": 20,
   "id": "ab26e3d2",
   "metadata": {},
   "outputs": [
    {
     "name": "stdout",
     "output_type": "stream",
     "text": [
      "25\n"
     ]
    }
   ],
   "source": [
    "string = 'aaaaaaabaaaaabbaaaaabbaaaaaabbbbbaa' #input('Digite um texto: ')\n",
    "letra = 'a' #input('Digite uma letra: ')\n",
    "contadorvezes = string.count(letra)\n",
    "posicoes = []\n",
    "\n",
    "for i in range(len(string)):\n",
    "    if string[i] == letra:\n",
    "        posicoes.append(i)\n",
    "\n",
    "print(len(posicoes))\n",
    "#print(contadorvezes)"
   ]
  },
  {
   "cell_type": "code",
   "execution_count": null,
   "id": "da81fa4d",
   "metadata": {},
   "outputs": [],
   "source": []
  }
 ],
 "metadata": {
  "kernelspec": {
   "display_name": "Python 3 (ipykernel)",
   "language": "python",
   "name": "python3"
  },
  "language_info": {
   "codemirror_mode": {
    "name": "ipython",
    "version": 3
   },
   "file_extension": ".py",
   "mimetype": "text/x-python",
   "name": "python",
   "nbconvert_exporter": "python",
   "pygments_lexer": "ipython3",
   "version": "3.9.7"
  }
 },
 "nbformat": 4,
 "nbformat_minor": 5
}
