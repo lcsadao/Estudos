{
 "cells": [
  {
   "cell_type": "markdown",
   "id": "3f9d861f",
   "metadata": {},
   "source": [
    "Faça uma função que recebe um número e imprime seu dobro."
   ]
  },
  {
   "cell_type": "code",
   "execution_count": 36,
   "id": "e8dc3ba8",
   "metadata": {},
   "outputs": [
    {
     "name": "stdout",
     "output_type": "stream",
     "text": [
      "Digite um número: 25\n",
      "50.0\n"
     ]
    }
   ],
   "source": [
    "def dobro(x):\n",
    "    resultado = x * 2\n",
    "    return resultado\n",
    "    \n",
    "numero = float(input('Digite um número: '))\n",
    "print(dobro(numero))\n",
    "\n",
    "\n"
   ]
  },
  {
   "cell_type": "markdown",
   "id": "6cdc0fc5",
   "metadata": {},
   "source": [
    "Faça uma função para cada operação matemática básica (soma, subtração, multiplicação e divisão). As funções devem receber dois números e retornar o resultado da operação."
   ]
  },
  {
   "cell_type": "code",
   "execution_count": 28,
   "id": "5a45c7b7",
   "metadata": {},
   "outputs": [
    {
     "name": "stdout",
     "output_type": "stream",
     "text": [
      "Digite um número: 10\n",
      "Digite outro número: 25\n",
      "Qual operação deseja realizar? :abc\n",
      "Operação inválida! Digite novamente: soma\n",
      "0\n"
     ]
    }
   ],
   "source": [
    "def somar(a,b):\n",
    "    resultado = a + b\n",
    "    return resultado\n",
    "\n",
    "def subtrair(a,b):\n",
    "    resultado = a - b\n",
    "    return resultado\n",
    "\n",
    "def multiplicar(a,b):\n",
    "    resultado = a * b\n",
    "    return resultado\n",
    "\n",
    "def dividir(a,b):\n",
    "    resultado = a // b\n",
    "    return resultado\n",
    "\n",
    "numero1 = float(input('Digite um número: '))\n",
    "numero2 = float(input('Digite outro número: '))\n",
    "operacao = input('Qual operação deseja realizar? :')\n",
    "final = 0\n",
    "\n",
    "if operacao == 'soma':\n",
    "    final = somar(numero1, numero2)\n",
    "elif operacao == 'subtração':\n",
    "    final = subtrair(numero1,numero2)\n",
    "elif operacao == 'multiplicação':\n",
    "    final = multiplicar(numero1,numero2)\n",
    "elif operacao == 'divisão':\n",
    "    final = dividir(numero1,numero2)\n",
    "\n",
    "        \n",
    "print(final)\n",
    "    "
   ]
  },
  {
   "cell_type": "markdown",
   "id": "7ec023d6",
   "metadata": {},
   "source": [
    "Faça uma função que recebe um nome e imprime “olá, [nome]”."
   ]
  },
  {
   "cell_type": "code",
   "execution_count": 1,
   "id": "d7d71cce",
   "metadata": {},
   "outputs": [
    {
     "name": "stdin",
     "output_type": "stream",
     "text": [
      "Digite um nome:  Lucas\n"
     ]
    },
    {
     "name": "stdout",
     "output_type": "stream",
     "text": [
      "Olá, Lucas\n"
     ]
    }
   ],
   "source": [
    "def cumprimento(x):\n",
    "    resultado = print('Olá,',x)\n",
    "    \n",
    "    \n",
    "nome = input('Digite um nome: ')\n",
    "\n",
    "cumprimento(nome)"
   ]
  },
  {
   "cell_type": "markdown",
   "id": "d908bee9",
   "metadata": {},
   "source": [
    "Faça uma função que recebe um nome e um horário (pode ser um número inteiro) e imprime “Bom dia, [nome]”, caso seja antes de 12h, “Boa Tarde, [nome]”, caso seja entre 12h e 18h e “Boa noite, [nome]” se for após às 18h."
   ]
  },
  {
   "cell_type": "code",
   "execution_count": 52,
   "id": "4ec84eb5",
   "metadata": {},
   "outputs": [
    {
     "name": "stdout",
     "output_type": "stream",
     "text": [
      "Digite um nome: lucas\n",
      "Digite uma hora do dia: 10\n",
      "Bom dia, lucas\n"
     ]
    }
   ],
   "source": [
    "def cumprimento(x,y):\n",
    "    if y < 12:\n",
    "        resultado = print('Bom dia,', x)\n",
    "    elif y > 12 and y < 18:\n",
    "        resultado = print('Boa tarde,', x)\n",
    "    elif y > 18 and y < 24:\n",
    "        resultado = print('Boa noite,',x)\n",
    "    return resultado\n",
    "\n",
    "nome = input('Digite um nome: ')\n",
    "horario = int(input('Digite uma hora do dia: '))\n",
    "cumprimento(nome,horario)"
   ]
  },
  {
   "cell_type": "markdown",
   "id": "8c1675b0",
   "metadata": {},
   "source": [
    "Faça uma função que recebe duas listas e retorna a soma item a item dessas listas.\n",
    "\n",
    "Exemplo: Se a função receber as listas [1,4,3] e [3,5,1], então a função deve retornar [1+3, 4+5, 3+1] = [4, 9, 4]."
   ]
  },
  {
   "cell_type": "code",
   "execution_count": 73,
   "id": "258da4db",
   "metadata": {},
   "outputs": [
    {
     "data": {
      "text/plain": [
       "[3, 6, 9]"
      ]
     },
     "execution_count": 73,
     "metadata": {},
     "output_type": "execute_result"
    }
   ],
   "source": [
    "def soma_de_listas(x,y):\n",
    "    resultado = []\n",
    "    for i in range(len(y)):\n",
    "        resultado.append(x[i] + y[i])\n",
    "    return resultado\n",
    "\n",
    "lista1 = [1, 2, 3]\n",
    "lista2 = [2, 4, 6]\n",
    "\n",
    "soma_de_listas(lista1, lista2)"
   ]
  },
  {
   "cell_type": "markdown",
   "id": "522dd21b",
   "metadata": {},
   "source": [
    "Faça uma função que receba duas listas e retorne o produto item a item dessas listas.\n",
    "\n",
    "Exemplo: Se a função receber as listas [1,4,3] e [3,5,1], então a função deve retornar [1x3, 4x5, 3x1] = [3, 20, 3]."
   ]
  },
  {
   "cell_type": "code",
   "execution_count": 112,
   "id": "970f0fad",
   "metadata": {},
   "outputs": [
    {
     "data": {
      "text/plain": [
       "[28, 8, 18]"
      ]
     },
     "execution_count": 112,
     "metadata": {},
     "output_type": "execute_result"
    }
   ],
   "source": [
    "def produto_de_listas(x,y):\n",
    "    resultado = []\n",
    "    for i in range(len(y)):\n",
    "        resultado.append(x[i] * y[i])\n",
    "    return resultado\n",
    "\n",
    "lista1 = [4, 2, 3]\n",
    "lista2 = [7, 4, 6]\n",
    "\n",
    "produto_de_listas(lista1, lista2)"
   ]
  },
  {
   "cell_type": "markdown",
   "id": "bf53eef1",
   "metadata": {},
   "source": [
    "Faça uma função que recebe um número x e uma lista numérica e retorna uma lista cujos elementos são os itens da lista de entrada multiplicado por x.\n",
    "\n",
    "Exemplo:\n",
    "\n",
    "Se a função receber o número 5 e a lista [3,5,1], então a função deve retornar [5x3, 5x5, 5x1] = [15, 25, 5]."
   ]
  },
  {
   "cell_type": "code",
   "execution_count": 6,
   "id": "07723459",
   "metadata": {},
   "outputs": [
    {
     "name": "stdin",
     "output_type": "stream",
     "text": [
      "Digite um número:  2.1\n"
     ]
    },
    {
     "data": {
      "text/plain": [
       "[2.1, 8.4, 16.8]"
      ]
     },
     "execution_count": 6,
     "metadata": {},
     "output_type": "execute_result"
    }
   ],
   "source": [
    "def exercicio(x,y):\n",
    "    resultado = []\n",
    "    for i in range(len(y)):\n",
    "        resultado.append(x * y[i])\n",
    "    return resultado\n",
    "    \n",
    "numero = float(input('Digite um número: '))\n",
    "lista = [1, 4, 8]\n",
    "exercicio(numero,lista)\n"
   ]
  },
  {
   "cell_type": "markdown",
   "id": "e7eedcc2",
   "metadata": {},
   "source": [
    "Faça uma função que recebe uma lista de números e retorna a soma dos elementos dessa lista."
   ]
  },
  {
   "cell_type": "code",
   "execution_count": 133,
   "id": "b8d3eb7a",
   "metadata": {},
   "outputs": [
    {
     "name": "stdout",
     "output_type": "stream",
     "text": [
      "442\n"
     ]
    }
   ],
   "source": [
    "def soma_lista(x):\n",
    "    print(sum(x))\n",
    "\n",
    "lista = [1, 1, 100, 340]\n",
    "soma_lista(lista)\n",
    "    "
   ]
  },
  {
   "cell_type": "markdown",
   "id": "f5fc300a",
   "metadata": {},
   "source": [
    "Desafio 1 - Faça uma função que receba um número e calcule seu fatorial."
   ]
  },
  {
   "cell_type": "code",
   "execution_count": 4,
   "id": "23196f28",
   "metadata": {},
   "outputs": [
    {
     "name": "stdin",
     "output_type": "stream",
     "text": [
      "Digite um número:  4\n"
     ]
    },
    {
     "data": {
      "text/plain": [
       "24"
      ]
     },
     "execution_count": 4,
     "metadata": {},
     "output_type": "execute_result"
    }
   ],
   "source": [
    "def fatorial(x):\n",
    "    soma = 1\n",
    "    contador = x\n",
    "    while contador > 1:\n",
    "        soma = soma * contador\n",
    "        contador = contador - 1\n",
    "    return soma\n",
    "\n",
    "numero = int(input('Digite um número: '))\n",
    "fatorial(numero)\n",
    "\n"
   ]
  },
  {
   "cell_type": "markdown",
   "id": "8aaed6cf",
   "metadata": {},
   "source": [
    "Desafio 2 - Faça uma função que recebe duas entradas: um input dado pelo usuário e um string que informa o tipo de dado (\"idade\", \"salário\" ou \"sexo\"), e verifica se os dados digitados foram válidos, usando os seguintes critérios:\n",
    "\n",
    "a. Idade: entre 0 e 150;\n",
    "\n",
    "b. Salário: maior que 0;\n",
    "\n",
    "c. Sexo: M, F ou Outro."
   ]
  },
  {
   "cell_type": "code",
   "execution_count": 25,
   "id": "f48f3d2e",
   "metadata": {},
   "outputs": [
    {
     "data": {
      "text/plain": [
       "'Salário inválido!'"
      ]
     },
     "execution_count": 25,
     "metadata": {},
     "output_type": "execute_result"
    }
   ],
   "source": [
    "def desafio2(x=int,y=float,z=str):\n",
    "    \n",
    "    verificadorx = x > 0 and x < 150\n",
    "    verificadory = y > 0\n",
    "    verificadorz = z == 'M' or z == 'F' or z == 'Outro'\n",
    "    \n",
    "    if verificadorx == True and verificadory == True and verificadorz == True:\n",
    "        return x,y,z\n",
    "    else:\n",
    "        if verificadorx == False:\n",
    "            return 'Idade inválida!'\n",
    "        elif verificadory == False:\n",
    "            return 'Salário inválido!'\n",
    "        elif verificadorz == False:\n",
    "            return 'Sexo inválido!'\n",
    "        \n",
    "    \n",
    "        \n",
    "    \n",
    "desafio2(100,-1,'MF')\n",
    "       "
   ]
  },
  {
   "cell_type": "code",
   "execution_count": 4,
   "id": "c8ee5b49",
   "metadata": {},
   "outputs": [
    {
     "data": {
      "text/plain": [
       "['LUCAS', 'PAULA', 'PAULO', 'ALVARO']"
      ]
     },
     "execution_count": 4,
     "metadata": {},
     "output_type": "execute_result"
    }
   ],
   "source": [
    "def lista_caps(x):\n",
    "    resultado = []\n",
    "    for i in range(len(x)):\n",
    "        resultado.append(x[i].upper())\n",
    "    return resultado\n",
    "\n",
    "lista = ['lucas', 'paula', 'paulo', 'alvaro']\n",
    "lista_caps(lista)\n",
    "        \n",
    "        "
   ]
  }
 ],
 "metadata": {
  "kernelspec": {
   "display_name": "Python 3 (ipykernel)",
   "language": "python",
   "name": "python3"
  },
  "language_info": {
   "codemirror_mode": {
    "name": "ipython",
    "version": 3
   },
   "file_extension": ".py",
   "mimetype": "text/x-python",
   "name": "python",
   "nbconvert_exporter": "python",
   "pygments_lexer": "ipython3",
   "version": "3.9.7"
  }
 },
 "nbformat": 4,
 "nbformat_minor": 5
}
