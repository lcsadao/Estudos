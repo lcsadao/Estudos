{
 "cells": [
  {
   "cell_type": "markdown",
   "id": "af1b3a8c",
   "metadata": {},
   "source": [
    "Faça um programa que leia dois números e informe o maior deles.\n"
   ]
  },
  {
   "cell_type": "code",
   "execution_count": 67,
   "id": "597234e6",
   "metadata": {},
   "outputs": [
    {
     "name": "stdout",
     "output_type": "stream",
     "text": [
      "Digite o primeiro número: -1\n",
      "Digite o segundo número: -3\n",
      "-1.0\n"
     ]
    }
   ],
   "source": [
    "numero1 = float(input('Digite o primeiro número: '))\n",
    "numero2 = float(input('Digite o segundo número: '))\n",
    "\n",
    "if numero1 > numero2:\n",
    "    print(numero1)\n",
    "elif numero2 > numero1:\n",
    "    print(numero2)\n",
    "else:\n",
    "    print('Os números são iguais!')\n",
    "    "
   ]
  },
  {
   "cell_type": "markdown",
   "id": "7f4fbc2f",
   "metadata": {},
   "source": [
    "Faça um código que leia um número e informe se ele é par ou ímpar."
   ]
  },
  {
   "cell_type": "code",
   "execution_count": 66,
   "id": "77bed801",
   "metadata": {},
   "outputs": [
    {
     "name": "stdout",
     "output_type": "stream",
     "text": [
      "Informe um número: 201\n",
      "O número é ímpar!\n"
     ]
    }
   ],
   "source": [
    "numero = float(input('Informe um número: '))\n",
    "\n",
    "if numero % 2 == 0:\n",
    "    print('O número é par!')\n",
    "else:\n",
    "    print('O número é ímpar!')\n",
    "    "
   ]
  },
  {
   "cell_type": "markdown",
   "id": "35e1f656",
   "metadata": {},
   "source": [
    "Faça um programa que receba 3 notas de prova de um aluno, calcule a média e diga se ele foi aprovado ou reprovado. A média para aprovação é de pelo menos 6 (aprovado se média maior ou igual a 6)."
   ]
  },
  {
   "cell_type": "code",
   "execution_count": 48,
   "id": "8a7a4043",
   "metadata": {},
   "outputs": [
    {
     "name": "stdout",
     "output_type": "stream",
     "text": [
      "Digite a primeira nota: 6\n",
      "Digite a segunda nota: 6\n",
      "Digite a terceira nota: 6\n",
      "Você foi aprovado!\n"
     ]
    }
   ],
   "source": [
    "nota1 = float(input('Digite a primeira nota: '))\n",
    "nota2 = float(input('Digite a segunda nota: '))\n",
    "nota3 = float(input('Digite a terceira nota: '))\n",
    "\n",
    "\n",
    "media = (nota1 + nota2 + nota3) / 3\n",
    "\n",
    "if media < 6:\n",
    "    print('Você foi reprovado!')\n",
    "else:\n",
    "    print('Você foi aprovado!')"
   ]
  },
  {
   "cell_type": "markdown",
   "id": "3a6dcc18",
   "metadata": {},
   "source": [
    "Uma empresa irá aplicar um reajuste nos salários de seus funcionários de acordo com as seguintes regras:\n",
    "\n",
    "Salário até R$2800,00 (incluindo): aumento de 20%;\n",
    "\n",
    "Salários entre R 2800,00 e R$7000,00: aumento de 15%;\n",
    "\n",
    "Salários entre R 7000,00 e R$15000,00: aumento de 10%;\n",
    "\n",
    "Salários de R$15000,00 em diante: aumento de 5%.\n",
    "\n",
    "Dado o salário de um funcionário, informe: o salário antes do reajuste; o percentual de aumento aplicado; o valor do aumento e o novo salário."
   ]
  },
  {
   "cell_type": "code",
   "execution_count": 68,
   "id": "ae739d47",
   "metadata": {},
   "outputs": [
    {
     "name": "stdout",
     "output_type": "stream",
     "text": [
      "Digite o seu salário: 2800.01\n",
      "O seu salário antigo era de 2800.01 , o aumento foi de 15 %, o valor do aumento foi de 420.0015 e o seu novo salário será de 3220.0115\n"
     ]
    }
   ],
   "source": [
    "salario = float(input('Digite o seu salário: '))\n",
    "salarioNovo = 0\n",
    "reajuste = 0\n",
    "aumento = 0\n",
    "\n",
    "\n",
    "if salario <= 2800:\n",
    "    salarioNovo = salario + salario * 0.2\n",
    "    reajuste = 20\n",
    "    aumento = salario * 0.2\n",
    "elif salario <= 7000:\n",
    "    salarioNovo = salario + salario * 0.15\n",
    "    reajuste = 15\n",
    "    aumento = salario * 0.15\n",
    "elif salario <= 15000:\n",
    "    salarioNovo = salario + salario * 0.10\n",
    "    reajuste = 10\n",
    "    aumento = salario * 0.10\n",
    "else:\n",
    "    salarioNovo = salario + salario * 0.05\n",
    "    reajuste = 5\n",
    "    aumento = salario * 0.05\n",
    "\n",
    "print('O seu salário antigo era de', salario,', o aumento foi de', reajuste,'%, o valor do aumento foi de', aumento,'e o seu novo salário será de', salarioNovo)\n",
    "    \n",
    "\n",
    "    \n",
    "\n",
    "    "
   ]
  },
  {
   "cell_type": "code",
   "execution_count": null,
   "id": "5c2a5824",
   "metadata": {},
   "outputs": [],
   "source": []
  }
 ],
 "metadata": {
  "kernelspec": {
   "display_name": "Python 3 (ipykernel)",
   "language": "python",
   "name": "python3"
  },
  "language_info": {
   "codemirror_mode": {
    "name": "ipython",
    "version": 3
   },
   "file_extension": ".py",
   "mimetype": "text/x-python",
   "name": "python",
   "nbconvert_exporter": "python",
   "pygments_lexer": "ipython3",
   "version": "3.9.7"
  }
 },
 "nbformat": 4,
 "nbformat_minor": 5
}
