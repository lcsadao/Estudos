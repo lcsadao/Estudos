{
 "cells": [
  {
   "cell_type": "markdown",
   "id": "e1a4616f",
   "metadata": {},
   "source": [
    "# Faça um script para somar dois números e multiplicar o resultado pelo primeiro número.\n"
   ]
  },
  {
   "cell_type": "code",
   "execution_count": 1,
   "id": "046dee52",
   "metadata": {},
   "outputs": [
    {
     "name": "stdout",
     "output_type": "stream",
     "text": [
      "300\n"
     ]
    }
   ],
   "source": [
    "numero1 = 10\n",
    "numero2 = 20\n",
    "\n",
    "resultado = numero1 + numero2\n",
    "\n",
    "multi = resultado * numero1\n",
    "\n",
    "print(multi)"
   ]
  },
  {
   "cell_type": "markdown",
   "id": "61df01fd",
   "metadata": {},
   "source": [
    "# Escreva um script para ler o salário mensal atual de um funcionário e o percentual de reajuste. Calcular e escrever o valor do novo salário.\n"
   ]
  },
  {
   "cell_type": "code",
   "execution_count": 6,
   "id": "88629856",
   "metadata": {},
   "outputs": [
    {
     "name": "stdout",
     "output_type": "stream",
     "text": [
      "Digite o valor do seu salário: 500\n",
      "Digite o valor do percentual de reajuste salarial: -100\n",
      "Seu novo salário será de: 0.0\n"
     ]
    }
   ],
   "source": [
    "salario = input('Digite o valor do seu salário: ')\n",
    "\n",
    "salario = float(salario)\n",
    "\n",
    "reajuste = input('Digite o valor do percentual de reajuste salarial: ')\n",
    "\n",
    "reajuste = float(reajuste)\n",
    "\n",
    "novosalario = salario * reajuste / 100\n",
    "\n",
    "print('Seu novo salário será de:', novosalario + salario)\n",
    "\n",
    "\n",
    "\n"
   ]
  },
  {
   "cell_type": "markdown",
   "id": "95b247a6",
   "metadata": {},
   "source": [
    "# Faça um script que peça um nome e a idade que a pessoa fez ou vai fazer esse ano. Ao final, informe o ano de nascimento dessa pessoa."
   ]
  },
  {
   "cell_type": "code",
   "execution_count": null,
   "id": "39560d52",
   "metadata": {},
   "outputs": [],
   "source": [
    "nome = input('Digite o seu nome: ')\n",
    "\n",
    "idade = input('Digite a idade que completou ou completará este ano: ')\n",
    "\n",
    "idade = int(idade)\n",
    "\n",
    "nascimento = 2021 - idade\n",
    "\n",
    "nascimento = int(nascimento)\n",
    "\n",
    "print(nome,',','você nasceu no ano de:', nascimento)"
   ]
  },
  {
   "cell_type": "markdown",
   "id": "99ddf221",
   "metadata": {},
   "source": [
    "# Faça um script que receba um número e informe:\n",
    "\n",
    "# O dobro desse número\n",
    "\n",
    "# O número ao quadrado\n",
    "\n",
    "# O número ao cubo"
   ]
  },
  {
   "cell_type": "code",
   "execution_count": 6,
   "id": "bc7727eb",
   "metadata": {},
   "outputs": [
    {
     "name": "stdout",
     "output_type": "stream",
     "text": [
      "Digite um número: 105\n",
      "O dobro desse número é:  210.0\n",
      "Este número elevado ao quadrado é: 11025.0\n",
      "Este número elevado ao cubo é: 1157625.0\n"
     ]
    }
   ],
   "source": [
    "numero = input('Digite um número: ')\n",
    "\n",
    "numero = float(numero)\n",
    "\n",
    "dobro = numero * 2\n",
    "\n",
    "dobro = float(dobro)\n",
    "\n",
    "quadrado = numero ** 2\n",
    "\n",
    "quadrado = float(quadrado)\n",
    "\n",
    "cubo = numero ** 3\n",
    "\n",
    "cubo = float(cubo)\n",
    "\n",
    "print('O dobro desse número é: ', dobro)\n",
    "\n",
    "print('Este número elevado ao quadrado é:', quadrado)\n",
    "\n",
    "print('Este número elevado ao cubo é:', cubo)\n"
   ]
  },
  {
   "cell_type": "markdown",
   "id": "3306ef01",
   "metadata": {},
   "source": [
    "# Faça um programa que pergunte o salário bruto de um funcionário. Calcule e mostre o seu salário líquido no referido mês, considerando que são descontados 11% para o Imposto de Renda, 8% para o INSS e 5% para o sindicato, faça um programa que nos dê:\n",
    "\n",
    "# Salário bruto.\n",
    "\n",
    "# Quanto pagou ao INSS.\n",
    "\n",
    "# Quanto pagou ao sindicato.\n",
    "\n",
    "# O salário líquido."
   ]
  },
  {
   "cell_type": "code",
   "execution_count": 8,
   "id": "96d9ca83",
   "metadata": {},
   "outputs": [
    {
     "name": "stdout",
     "output_type": "stream",
     "text": [
      "Por favor, informe o seu salário bruto: 1800.50\n",
      "O seu salário bruto é de: 1800.5\n",
      "O valor destinado ao INSS foi de: 144.04\n",
      "O valor destinado ao sindicato foi de: 90.025\n",
      "O seu salário líquido será de: 1368.3799999999999\n"
     ]
    }
   ],
   "source": [
    "bruto = input('Por favor, informe o seu salário bruto: ')\n",
    "\n",
    "bruto = float(bruto)\n",
    "\n",
    "inss = bruto * 0.08 \n",
    "\n",
    "inss = float(inss)\n",
    "\n",
    "renda = bruto * 0.11\n",
    "\n",
    "renda = float(renda)\n",
    "\n",
    "sindicato = bruto * 0.05\n",
    "\n",
    "sindicato = float(sindicato)\n",
    "\n",
    "liquido = bruto - inss - renda - sindicato\n",
    "\n",
    "liquido = float(liquido)\n",
    "\n",
    "print('O seu salário bruto é de:', bruto)\n",
    "\n",
    "print('O valor destinado ao INSS foi de:', inss)\n",
    "\n",
    "print('O valor destinado ao sindicato foi de:', sindicato)\n",
    "\n",
    "print('O seu salário líquido será de:', liquido)\n"
   ]
  }
 ],
 "metadata": {
  "kernelspec": {
   "display_name": "Python 3 (ipykernel)",
   "language": "python",
   "name": "python3"
  },
  "language_info": {
   "codemirror_mode": {
    "name": "ipython",
    "version": 3
   },
   "file_extension": ".py",
   "mimetype": "text/x-python",
   "name": "python",
   "nbconvert_exporter": "python",
   "pygments_lexer": "ipython3",
   "version": "3.9.7"
  }
 },
 "nbformat": 4,
 "nbformat_minor": 5
}
