{
 "cells": [
  {
   "cell_type": "markdown",
   "id": "9ff52ead",
   "metadata": {},
   "source": [
    "Faça um programa que peça a idade do usuário e imprima se ele é maior ou menor de 18 anos."
   ]
  },
  {
   "cell_type": "code",
   "execution_count": 3,
   "id": "0316367c",
   "metadata": {},
   "outputs": [
    {
     "name": "stdout",
     "output_type": "stream",
     "text": [
      "Digite a sua idade: 18\n",
      "Você é maior de idade!\n"
     ]
    }
   ],
   "source": [
    "idade = int(input('Digite a sua idade: '))\n",
    "\n",
    "if idade >= 18:\n",
    "    print('Você é maior de idade!')\n",
    "else:\n",
    "    print('Você é menor de idade!')"
   ]
  },
  {
   "cell_type": "markdown",
   "id": "9e8b0791",
   "metadata": {},
   "source": [
    "Faça um programa que peça um número e mostre se ele é positivo ou negativo."
   ]
  },
  {
   "cell_type": "code",
   "execution_count": 3,
   "id": "676e8a53",
   "metadata": {},
   "outputs": [
    {
     "name": "stdout",
     "output_type": "stream",
     "text": [
      "Digite um número: -1\n",
      "O número é negativo!\n"
     ]
    }
   ],
   "source": [
    "numero = float(input('Digite um número: '))\n",
    "\n",
    "if numero > 0:\n",
    "    print('O número é positivo!')\n",
    "elif numero == 0:\n",
    "    print('O número é neutro!')\n",
    "else:\n",
    "    print('O número é negativo!')"
   ]
  },
  {
   "cell_type": "markdown",
   "id": "b29eb5cc",
   "metadata": {},
   "source": [
    "Faça um programa que peça dois números e mostre o maior deles."
   ]
  },
  {
   "cell_type": "code",
   "execution_count": 7,
   "id": "d0bac77c",
   "metadata": {},
   "outputs": [
    {
     "name": "stdout",
     "output_type": "stream",
     "text": [
      "Digite um número: 10\n",
      "Agora digite outro número: 10\n",
      "Os números são iguais!\n"
     ]
    }
   ],
   "source": [
    "numero1 = float(input('Digite um número: '))\n",
    "numero2 = float(input('Agora digite outro número: '))\n",
    "\n",
    "if numero1 > numero2:\n",
    "    print(numero1)\n",
    "elif numero2 > numero1:\n",
    "    print(numero2)\n",
    "else:\n",
    "    print('Os números são iguais!')\n",
    "    "
   ]
  },
  {
   "cell_type": "markdown",
   "id": "a766de10",
   "metadata": {},
   "source": [
    "Faça um programa que leia a validade das informações:\n",
    "\n",
    "a. Idade: entre 0 e 150;\n",
    "\n",
    "b. Salário: maior que 0;\n",
    "\n",
    "c. Sexo: M, F ou Outro;\n",
    "\n",
    "O programa deve imprimir uma mensagem de erro para cada informação inválida."
   ]
  },
  {
   "cell_type": "code",
   "execution_count": 25,
   "id": "7336a062",
   "metadata": {},
   "outputs": [
    {
     "name": "stdout",
     "output_type": "stream",
     "text": [
      "Digite a idade: 10\n",
      "Digite o salário: 200\n",
      "Digite o sexo: a\n",
      "Erro! Sexo inválido!\n"
     ]
    }
   ],
   "source": [
    "idade = int(input('Digite a idade: '))\n",
    "salario = float(input('Digite o salário: '))\n",
    "sexo = input('Digite o sexo: ')\n",
    "\n",
    "if idade < 0 or idade > 150:\n",
    "    print('Erro! Idade inválida!')\n",
    "    \n",
    "if salario <= 0:\n",
    "    print('Erro! Salário inválido!')\n",
    "    \n",
    "if sexo != 'M' and sexo != 'F' and sexo != 'Outro':\n",
    "    print('Erro! Sexo inválido!')\n",
    "    \n"
   ]
  },
  {
   "cell_type": "markdown",
   "id": "974d4046",
   "metadata": {},
   "source": [
    "Escreva um programa que peça a nota de 3 provas de um aluno e verifique se ele passou ou não de ano.\n",
    "\n",
    "Obs.: O aluno irá passar de ano se sua média for maior que 6."
   ]
  },
  {
   "cell_type": "code",
   "execution_count": null,
   "id": "9474ba17",
   "metadata": {},
   "outputs": [],
   "source": [
    "nota1 = float(input('Digite a primeira nota: '))\n",
    "nota2 = float(input('Digite a segunda nota: '))\n",
    "nota3 = float(input('Digite a terceira nota: '))\n",
    "\n",
    "\n",
    "media = (nota1 + nota2 + nota3) / 3\n",
    "\n",
    "if media >= 6:\n",
    "    print('Parabéns! Você passou de ano!')\n",
    "else:\n",
    "    print('Você reprovou!')"
   ]
  },
  {
   "cell_type": "markdown",
   "id": "f13c2aa6",
   "metadata": {},
   "source": [
    "Faça um programa que mostre uma questão de múltipla escolha com 5 opções (letras a, b, c, d, e). Sabendo a resposta certa, o programa deve receber a opção do usuário e informar a letra que o usuário marcou e se a resposta está certa ou errada."
   ]
  },
  {
   "cell_type": "code",
   "execution_count": 13,
   "id": "854af66a",
   "metadata": {},
   "outputs": [
    {
     "ename": "KeyboardInterrupt",
     "evalue": "Interrupted by user",
     "output_type": "error",
     "traceback": [
      "\u001b[1;31m---------------------------------------------------------------------------\u001b[0m",
      "\u001b[1;31mKeyboardInterrupt\u001b[0m                         Traceback (most recent call last)",
      "\u001b[1;32m~\\AppData\\Local\\Temp/ipykernel_17232/2179324168.py\u001b[0m in \u001b[0;36m<module>\u001b[1;34m\u001b[0m\n\u001b[0;32m      1\u001b[0m \u001b[0mrespostaCerta\u001b[0m \u001b[1;33m=\u001b[0m \u001b[1;34m'b'\u001b[0m\u001b[1;33m\u001b[0m\u001b[1;33m\u001b[0m\u001b[0m\n\u001b[1;32m----> 2\u001b[1;33m resposta = input('Digite a alternativa correta:'\n\u001b[0m\u001b[0;32m      3\u001b[0m                  \u001b[1;34m'a) \"Resposta\" '\u001b[0m\u001b[1;33m\u001b[0m\u001b[1;33m\u001b[0m\u001b[0m\n\u001b[0;32m      4\u001b[0m                  \u001b[1;34m'b) \"Resposta\" '\u001b[0m\u001b[1;33m\u001b[0m\u001b[1;33m\u001b[0m\u001b[0m\n\u001b[0;32m      5\u001b[0m                  \u001b[1;34m'c) \"Resposta\" '\u001b[0m\u001b[1;33m\u001b[0m\u001b[1;33m\u001b[0m\u001b[0m\n",
      "\u001b[1;32m~\\AppData\\Local\\Packages\\PythonSoftwareFoundation.Python.3.9_qbz5n2kfra8p0\\LocalCache\\local-packages\\Python39\\site-packages\\ipykernel\\kernelbase.py\u001b[0m in \u001b[0;36mraw_input\u001b[1;34m(self, prompt)\u001b[0m\n\u001b[0;32m   1004\u001b[0m                 \u001b[1;34m\"raw_input was called, but this frontend does not support input requests.\"\u001b[0m\u001b[1;33m\u001b[0m\u001b[1;33m\u001b[0m\u001b[0m\n\u001b[0;32m   1005\u001b[0m             )\n\u001b[1;32m-> 1006\u001b[1;33m         return self._input_request(\n\u001b[0m\u001b[0;32m   1007\u001b[0m             \u001b[0mstr\u001b[0m\u001b[1;33m(\u001b[0m\u001b[0mprompt\u001b[0m\u001b[1;33m)\u001b[0m\u001b[1;33m,\u001b[0m\u001b[1;33m\u001b[0m\u001b[1;33m\u001b[0m\u001b[0m\n\u001b[0;32m   1008\u001b[0m             \u001b[0mself\u001b[0m\u001b[1;33m.\u001b[0m\u001b[0m_parent_ident\u001b[0m\u001b[1;33m[\u001b[0m\u001b[1;34m\"shell\"\u001b[0m\u001b[1;33m]\u001b[0m\u001b[1;33m,\u001b[0m\u001b[1;33m\u001b[0m\u001b[1;33m\u001b[0m\u001b[0m\n",
      "\u001b[1;32m~\\AppData\\Local\\Packages\\PythonSoftwareFoundation.Python.3.9_qbz5n2kfra8p0\\LocalCache\\local-packages\\Python39\\site-packages\\ipykernel\\kernelbase.py\u001b[0m in \u001b[0;36m_input_request\u001b[1;34m(self, prompt, ident, parent, password)\u001b[0m\n\u001b[0;32m   1049\u001b[0m             \u001b[1;32mexcept\u001b[0m \u001b[0mKeyboardInterrupt\u001b[0m\u001b[1;33m:\u001b[0m\u001b[1;33m\u001b[0m\u001b[1;33m\u001b[0m\u001b[0m\n\u001b[0;32m   1050\u001b[0m                 \u001b[1;31m# re-raise KeyboardInterrupt, to truncate traceback\u001b[0m\u001b[1;33m\u001b[0m\u001b[1;33m\u001b[0m\u001b[0m\n\u001b[1;32m-> 1051\u001b[1;33m                 \u001b[1;32mraise\u001b[0m \u001b[0mKeyboardInterrupt\u001b[0m\u001b[1;33m(\u001b[0m\u001b[1;34m\"Interrupted by user\"\u001b[0m\u001b[1;33m)\u001b[0m \u001b[1;32mfrom\u001b[0m \u001b[1;32mNone\u001b[0m\u001b[1;33m\u001b[0m\u001b[1;33m\u001b[0m\u001b[0m\n\u001b[0m\u001b[0;32m   1052\u001b[0m             \u001b[1;32mexcept\u001b[0m \u001b[0mException\u001b[0m\u001b[1;33m:\u001b[0m\u001b[1;33m\u001b[0m\u001b[1;33m\u001b[0m\u001b[0m\n\u001b[0;32m   1053\u001b[0m                 \u001b[0mself\u001b[0m\u001b[1;33m.\u001b[0m\u001b[0mlog\u001b[0m\u001b[1;33m.\u001b[0m\u001b[0mwarning\u001b[0m\u001b[1;33m(\u001b[0m\u001b[1;34m\"Invalid Message:\"\u001b[0m\u001b[1;33m,\u001b[0m \u001b[0mexc_info\u001b[0m\u001b[1;33m=\u001b[0m\u001b[1;32mTrue\u001b[0m\u001b[1;33m)\u001b[0m\u001b[1;33m\u001b[0m\u001b[1;33m\u001b[0m\u001b[0m\n",
      "\u001b[1;31mKeyboardInterrupt\u001b[0m: Interrupted by user"
     ]
    }
   ],
   "source": [
    "respostaCerta = 'b'\n",
    "resposta = input('Digite a alternativa correta:'\n",
    "                 'a) \"Resposta\" '\n",
    "                 'b) \"Resposta\" '\n",
    "                 'c) \"Resposta\" '\n",
    "                 'd) \"Resposta\" '       \n",
    "                 'e) \"Resposta\" ')\n",
    "if resposta != 'a' and resposta != 'b' and resposta != 'c' and resposta != 'd' and resposta != 'e':\n",
    "    print('Erro! Alternativa inválida! Digite uma das alternativas em exibição!')\n",
    "elif resposta == respostaCerta:\n",
    "    print('Parabéns! Você acertou!')\n",
    "else:\n",
    "    print('Alternativa incorreta!')\n",
    "    "
   ]
  },
  {
   "cell_type": "markdown",
   "id": "023012b5",
   "metadata": {},
   "source": [
    "Vamos fazer um programa para verificar quem é o assassino de um crime. Para descobrir o assassino, a polícia faz um pequeno questionário com 5 perguntas onde a resposta só pode ser sim ou não:\n",
    "\n",
    "a. Mora perto da vítima?\n",
    "\n",
    "b. Já trabalhou com a vítima?\n",
    "\n",
    "c. Telefonou para a vítima?\n",
    "\n",
    "d. Esteve no local do crime?\n",
    "\n",
    "e. Devia para a vítima?\n",
    "\n",
    "Cada resposta sim dá um ponto para o suspeito. A polícia considera que os suspeitos com 5 pontos são os assassinos, com 4 a 3 pontos são cúmplices e 2 pontos são apenas suspeitos, necessitando outras investigações. Valores iguais ou abaixo de 1 são liberados."
   ]
  },
  {
   "cell_type": "code",
   "execution_count": null,
   "id": "96dc28d9",
   "metadata": {},
   "outputs": [],
   "source": []
  },
  {
   "cell_type": "markdown",
   "id": "ce45582c",
   "metadata": {},
   "source": [
    "Um produto vai sofrer aumento de acordo com a Tabela 1 abaixo. Faça um programa que peça para o usuário digitar o valor do produto de acordo com o preço antigo e escreva uma das mensagens da Tabela 2, de acordo com o preço reajustado:\n",
    "\n",
    "Tabela 1\n",
    "\n",
    "Preço Antigo\t% de aumento\n",
    "Até 50 reais >\t5%\n",
    "Entre 50 e 100 reais\t> 10%\n",
    "De 100 a 150 reais\t> 13%\n",
    "Acima de 150 reais >\t15%\n",
    "Tabela 2\n",
    "\n",
    "Preço Novo\tMensagem\n",
    "Até 80 reais\tBarato\n",
    "Entre 80 e 115 reais\tRazoável\n",
    "Entre 115 e 150 reais\tNormal\n",
    "Entre 150 e 170 reais\tCaro\n",
    "Acima de 170 reais\tMuito Caro\n"
   ]
  },
  {
   "cell_type": "code",
   "execution_count": 22,
   "id": "b38f8eea",
   "metadata": {},
   "outputs": [
    {
     "name": "stdout",
     "output_type": "stream",
     "text": [
      "Digite o valor do produto: 150\n",
      "O valor deste produto está muito caro!\n"
     ]
    }
   ],
   "source": [
    "valorAntigo = float(input('Digite o valor do produto: '))\n",
    "\n",
    "if valorAntigo < 50:\n",
    "    valorNovo = valorAntigo * 0.05 + valorAntigo\n",
    "elif valorAntigo < 100 and valorAntigo >= 50:\n",
    "    valorNovo = valorAntigo * 0.1 + valorAntigo\n",
    "elif valorAntigo < 150 and valorAntigo >= 100:\n",
    "    valorNovo = valorAntigo * 0.13 + valorAntigo\n",
    "else:\n",
    "    valorNovo = valorAntigo * 0.15 + valorAntigo\n",
    "\n",
    "if valorNovo <= 80:\n",
    "    print('O valor deste produto está barato!')\n",
    "elif valorNovo <= 115:\n",
    "    print('O valor deste produto está razoável!')\n",
    "elif valorNovo <= 150:\n",
    "    print('O valor deste produto está normal!')\n",
    "elif valorNovo <= 170:\n",
    "    print('O valor deste produto está caro!')\n",
    "else:\n",
    "    print('O valor deste produto está muito caro!')\n",
    "    \n",
    "    \n",
    "    "
   ]
  },
  {
   "cell_type": "markdown",
   "id": "baae5475",
   "metadata": {},
   "source": [
    "Desafio 1 - Faça um programa que leia 3 números e informe o maior deles."
   ]
  },
  {
   "cell_type": "code",
   "execution_count": 14,
   "id": "18ce984f",
   "metadata": {},
   "outputs": [
    {
     "name": "stdout",
     "output_type": "stream",
     "text": [
      "Digite o primeiro número: 0\n",
      "Digite o segundo número: 0\n",
      "Digite o terceiro número: 0\n",
      "Os números são iguais!\n"
     ]
    }
   ],
   "source": [
    "numero1 = float(input('Digite o primeiro número: '))\n",
    "numero2 = float(input('Digite o segundo número: '))\n",
    "numero3 = float(input('Digite o terceiro número: '))\n",
    "\n",
    "if numero1 > numero2 and numero1 > numero3:\n",
    "    print(numero1)\n",
    "elif numero2 > numero1 and numero2 > numero3:\n",
    "    print(numero2)\n",
    "elif numero3 > numero1 and numero3 > numero2:\n",
    "    print(numero3)\n",
    "else:\n",
    "    print('Os números são iguais!')\n",
    "    \n",
    "    "
   ]
  },
  {
   "cell_type": "markdown",
   "id": "9086c43a",
   "metadata": {},
   "source": [
    "Desafio 2 - Faça o mesmo programa do exercício anterior, porém com 4 números."
   ]
  },
  {
   "cell_type": "code",
   "execution_count": 24,
   "id": "7826c85b",
   "metadata": {},
   "outputs": [
    {
     "name": "stdout",
     "output_type": "stream",
     "text": [
      "Digite o primeiro número: 0\n",
      "Digite o segundo número: 0\n",
      "Digite o terceiro número: 0\n",
      "Digite o quarto número: 0\n",
      "Os números são iguais!\n"
     ]
    }
   ],
   "source": [
    "numero1 = float(input('Digite o primeiro número: '))\n",
    "numero2 = float(input('Digite o segundo número: '))\n",
    "numero3 = float(input('Digite o terceiro número: '))\n",
    "numero4 = float(input('Digite o quarto número: '))\n",
    "\n",
    "if numero1 > numero2 and numero1 > numero3 and numero1 > numero4:\n",
    "    print(numero1)\n",
    "elif numero2 > numero1 and numero2 > numero3 and numero2 > numero4:\n",
    "    print(numero2)\n",
    "elif numero3 > numero1 and numero3 > numero2 and numero3 > numero4:\n",
    "    print(numero3)\n",
    "elif numero4 > numero1 and numero4 > numero2 and numero4 > numero3:\n",
    "    print(numero4)\n",
    "else:\n",
    "    print('Os números são iguais!')"
   ]
  },
  {
   "cell_type": "markdown",
   "id": "e249ba35",
   "metadata": {},
   "source": [
    "Desafio 3 - Um hospital quer fazer o diagnóstico de gripe ou dengue a partir de um questionário de sintomas, tendo as perguntas abaixo, faça um programa que faça o diagnóstico deste hospital:\n",
    "\n",
    "a. Sente dor no corpo?\n",
    "\n",
    "b. Você tem febre?\n",
    "\n",
    "c. Você tem tosse?\n",
    "\n",
    "d. Está com congestão nasal?\n",
    "\n",
    "e. Tem manchas pelo corpo?\n",
    "\n",
    "Para o diagnóstico ele tem a seguinte tabela:\n",
    "\n",
    "A\tB\tC\tD\tE\tResultado\n",
    "Sim\tSim\tNão\tNão\tSim\tDengue\n",
    "Sim\tSim\tSim\tSim\tNão\tGripe\n",
    "Não\tSim\tSim\tSim\tNão\tGripe\n",
    "Sim\tNão\tNão\tNão\tNão\tSem doenças\n",
    "Não\tNão\tNão\tNão\tNão\tSem doenças\n"
   ]
  },
  {
   "cell_type": "code",
   "execution_count": null,
   "id": "f2af6f27",
   "metadata": {},
   "outputs": [
    {
     "name": "stdout",
     "output_type": "stream",
     "text": [
      "Questionário para diagnóstico: \n"
     ]
    }
   ],
   "source": [
    "print('Questionário para diagnóstico: ')\n",
    "\n",
    "resA = input('Você sente dor no corpo? ')\n",
    "resB = input('Você está com febre? ')\n",
    "resC = input('Você está com tosse? ')\n",
    "resD = input('Você está com congestão nasal? ')\n",
    "resE = input('Você está com manchas pelo corpo? ')\n",
    "\n",
    "Dengue = False\n",
    "Gripe = False\n",
    "\n",
    "if resA != 'sim' and resA != 'não':\n",
    "    print('Resposta A inválida! Escreva sim ou não!')\n",
    "if resB != 'sim' and resB != 'não':\n",
    "    print('Resposta B inválida! Escreva sim ou não!')\n",
    "if resC  != 'sim' and resC != 'não':\n",
    "    print('Resposta C inválida! Escreva sim ou não!')\n",
    "if resD  != 'sim' and resD != 'não':\n",
    "    print('Resposta D inválida! Escreva sim ou não!')\n",
    "if resE  != 'sim' and resE != 'não':\n",
    "    print('Resposta E inválida! Escreva sim ou não!')\n",
    "    \n",
    "if resB == 'sim' and resC == 'sim' and resD == 'sim':\n",
    "    Gripe = True\n",
    "elif resA == 'sim' and resB == 'sim' and resE == 'sim':\n",
    "    Dengue = True\n",
    "\n",
    "    \n",
    "if Dengue:\n",
    "    print('Você está com dengue!')\n",
    "elif Gripe:\n",
    "    print('Você está com gripe!')\n",
    "else:\n",
    "    print('Você não possue nenhuma doença específica!')\n",
    "    \n",
    "    \n",
    "\n",
    "\n"
   ]
  },
  {
   "cell_type": "markdown",
   "id": "9f35776a",
   "metadata": {},
   "source": []
  }
 ],
 "metadata": {
  "kernelspec": {
   "display_name": "Python 3 (ipykernel)",
   "language": "python",
   "name": "python3"
  },
  "language_info": {
   "codemirror_mode": {
    "name": "ipython",
    "version": 3
   },
   "file_extension": ".py",
   "mimetype": "text/x-python",
   "name": "python",
   "nbconvert_exporter": "python",
   "pygments_lexer": "ipython3",
   "version": "3.9.7"
  }
 },
 "nbformat": 4,
 "nbformat_minor": 5
}
